{
 "cells": [
  {
   "cell_type": "markdown",
   "id": "939bb624",
   "metadata": {},
   "source": [
    "Variables and Datatypes"
   ]
  },
  {
   "cell_type": "markdown",
   "id": "00241bd5",
   "metadata": {},
   "source": [
    "Shortcuts for arithmetic operations:"
   ]
  },
  {
   "cell_type": "code",
   "execution_count": 22,
   "id": "91133a18",
   "metadata": {},
   "outputs": [
    {
     "name": "stdout",
     "output_type": "stream",
     "text": [
      "2\n",
      "4\n",
      "16\n",
      "8.0\n"
     ]
    }
   ],
   "source": [
    "x = 1\n",
    "x+= 1\n",
    "print(x)\n",
    "\n",
    "x*= 2\n",
    "print(x)\n",
    "\n",
    "x**= 2\n",
    "print(x)\n",
    "\n",
    "x/= 2\n",
    "print(x)"
   ]
  },
  {
   "cell_type": "markdown",
   "id": "cf722821",
   "metadata": {},
   "source": [
    "type() can be used to determine datatype of a variable"
   ]
  },
  {
   "cell_type": "code",
   "execution_count": 23,
   "id": "05b097bd",
   "metadata": {},
   "outputs": [
    {
     "name": "stdout",
     "output_type": "stream",
     "text": [
      "<class 'str'>\n"
     ]
    }
   ],
   "source": [
    "print(type(\"Hello, there!\"))"
   ]
  },
  {
   "cell_type": "markdown",
   "id": "6866b774",
   "metadata": {},
   "source": [
    "int() or float() functions can be used to convert between datatypes.\n",
    "int() will always round down\n",
    "round()"
   ]
  },
  {
   "cell_type": "code",
   "execution_count": 29,
   "id": "edaef690",
   "metadata": {},
   "outputs": [
    {
     "name": "stdout",
     "output_type": "stream",
     "text": [
      "14\n",
      "2\n"
     ]
    }
   ],
   "source": [
    "variable_a = 13.9\n",
    "variable_b = 2.8\n",
    "variable_a = round(variable_a)\n",
    "variable_b = int(variable_b)\n",
    "print(variable_a)\n",
    "print(variable_b)"
   ]
  },
  {
   "cell_type": "markdown",
   "id": "c11e14d2",
   "metadata": {},
   "source": [
    "Strings can be enclosed in either \" \" or ' ' \n",
    "Combine them in order to print '"
   ]
  },
  {
   "cell_type": "code",
   "execution_count": 30,
   "id": "065f4a64",
   "metadata": {},
   "outputs": [
    {
     "name": "stdout",
     "output_type": "stream",
     "text": [
      "old's way\n"
     ]
    }
   ],
   "source": [
    "print(\"old's way\")"
   ]
  },
  {
   "cell_type": "markdown",
   "id": "5d60f42e",
   "metadata": {},
   "source": [
    "\\ can be used to escape special function of '\\''"
   ]
  },
  {
   "cell_type": "code",
   "execution_count": 31,
   "id": "522e11bc",
   "metadata": {},
   "outputs": [
    {
     "name": "stdout",
     "output_type": "stream",
     "text": [
      "Facebook's new motto is \"move fast with stable infra.\"\n"
     ]
    }
   ],
   "source": [
    "motto = 'Facebook\\'s new motto is \"move fast with stable infra.\"'\n",
    "print(motto)\n"
   ]
  },
  {
   "cell_type": "markdown",
   "id": "42a05102",
   "metadata": {},
   "source": [
    "+ can be used to concatenate strings\n",
    "Can't concat strings to int\n",
    "int() float() conversion don't work on strings unless the contents of string are int/float\n",
    "str() can convert int/floats to strings"
   ]
  },
  {
   "cell_type": "code",
   "execution_count": 32,
   "id": "18161e0b",
   "metadata": {},
   "outputs": [
    {
     "name": "stdout",
     "output_type": "stream",
     "text": [
      "I am the great potato man\n"
     ]
    }
   ],
   "source": [
    "print(\"I am the great\" + \" potato man\")"
   ]
  },
  {
   "cell_type": "code",
   "execution_count": 33,
   "id": "22112d06",
   "metadata": {},
   "outputs": [
    {
     "name": "stdout",
     "output_type": "stream",
     "text": [
      "-------\n"
     ]
    }
   ],
   "source": [
    "print('-' * 7)"
   ]
  },
  {
   "cell_type": "code",
   "execution_count": 34,
   "id": "d3976bcf",
   "metadata": {},
   "outputs": [
    {
     "name": "stdout",
     "output_type": "stream",
     "text": [
      "0.434333\n"
     ]
    }
   ],
   "source": [
    "print(str(0.434333))"
   ]
  },
  {
   "cell_type": "markdown",
   "id": "220d0468",
   "metadata": {},
   "source": [
    "\"\"\" or ''' can be used to write multilined strings\n",
    "also allows us to have \" or ' within the sentence without havint to scape \\\n",
    "motto = '''Facebook's old motto was 'move fast and break things'.'''"
   ]
  },
  {
   "cell_type": "code",
   "execution_count": 35,
   "id": "7f3a0c8c",
   "metadata": {},
   "outputs": [
    {
     "name": "stdout",
     "output_type": "stream",
     "text": [
      "Facebook's rating is 3.5\n"
     ]
    }
   ],
   "source": [
    "facebook = \"Facebook's rating is\"\n",
    "fb_rating = 3.5\n",
    "fb_rating_str = str(fb_rating)\n",
    "fb = facebook + ' ' + fb_rating_str\n",
    "print(fb)"
   ]
  },
  {
   "cell_type": "code",
   "execution_count": null,
   "id": "046ec0c8",
   "metadata": {},
   "outputs": [],
   "source": []
  }
 ],
 "metadata": {
  "kernelspec": {
   "display_name": "Python 3 (ipykernel)",
   "language": "python",
   "name": "python3"
  },
  "language_info": {
   "codemirror_mode": {
    "name": "ipython",
    "version": 3
   },
   "file_extension": ".py",
   "mimetype": "text/x-python",
   "name": "python",
   "nbconvert_exporter": "python",
   "pygments_lexer": "ipython3",
   "version": "3.9.7"
  }
 },
 "nbformat": 4,
 "nbformat_minor": 5
}
