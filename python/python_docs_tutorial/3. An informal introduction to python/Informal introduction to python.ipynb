{
 "cells": [
  {
   "cell_type": "code",
   "execution_count": 2,
   "id": "17d637b6-3bd8-4386-81d9-d76a68db3bd8",
   "metadata": {},
   "outputs": [],
   "source": [
    "# 3.1 Using Pythong as a calc\n"
   ]
  },
  {
   "cell_type": "code",
   "execution_count": 3,
   "id": "7cc79024-c466-4d64-a156-a1edf83e6b95",
   "metadata": {},
   "outputs": [],
   "source": [
    "# 3.1.1 Numbers\n",
    "# +, -, *, / can be used to perform arithmetic. \n",
    "# () can be used to group exressions"
   ]
  },
  {
   "cell_type": "code",
   "execution_count": 4,
   "id": "ee3c4cfa-633b-4948-adb1-96cd1c02b703",
   "metadata": {},
   "outputs": [
    {
     "data": {
      "text/plain": [
       "4"
      ]
     },
     "execution_count": 4,
     "metadata": {},
     "output_type": "execute_result"
    }
   ],
   "source": [
    "# Integers have type int\n",
    "2 + 2"
   ]
  },
  {
   "cell_type": "code",
   "execution_count": 5,
   "id": "a6d69ba8-a147-47d7-8217-c12505a58993",
   "metadata": {},
   "outputs": [
    {
     "data": {
      "text/plain": [
       "20"
      ]
     },
     "execution_count": 5,
     "metadata": {},
     "output_type": "execute_result"
    }
   ],
   "source": [
    "50 - 5 * 6"
   ]
  },
  {
   "cell_type": "code",
   "execution_count": 6,
   "id": "1e2fbce0-d2c8-4ffa-bd3f-2edf37d87d98",
   "metadata": {},
   "outputs": [
    {
     "data": {
      "text/plain": [
       "5.0"
      ]
     },
     "execution_count": 6,
     "metadata": {},
     "output_type": "execute_result"
    }
   ],
   "source": [
    "(50 - 5 * 6) / 4"
   ]
  },
  {
   "cell_type": "code",
   "execution_count": 7,
   "id": "30aad661-5f3d-4802-a5ae-dc9283e58dce",
   "metadata": {},
   "outputs": [
    {
     "data": {
      "text/plain": [
       "1.6"
      ]
     },
     "execution_count": 7,
     "metadata": {},
     "output_type": "execute_result"
    }
   ],
   "source": [
    "# division always returns floats. Where floats have a fractional part\n",
    "8/5 "
   ]
  },
  {
   "cell_type": "code",
   "execution_count": 8,
   "id": "9f2a3ba7-c7e2-46a4-b47a-c86ee97b1473",
   "metadata": {},
   "outputs": [
    {
     "data": {
      "text/plain": [
       "5.666666666666667"
      ]
     },
     "execution_count": 8,
     "metadata": {},
     "output_type": "execute_result"
    }
   ],
   "source": [
    "# / regular divison always returns floats\n",
    "17/3"
   ]
  },
  {
   "cell_type": "code",
   "execution_count": 9,
   "id": "e7666115-7c6e-4f6a-b426-ed9ab20b6aa5",
   "metadata": {},
   "outputs": [
    {
     "data": {
      "text/plain": [
       "5"
      ]
     },
     "execution_count": 9,
     "metadata": {},
     "output_type": "execute_result"
    }
   ],
   "source": [
    "# // floor division is used to get an int result. Discards the fractional part\n",
    "17 // 3"
   ]
  },
  {
   "cell_type": "code",
   "execution_count": 10,
   "id": "434be086-1625-4c4a-8e44-f8d794e70b75",
   "metadata": {},
   "outputs": [
    {
     "data": {
      "text/plain": [
       "2"
      ]
     },
     "execution_count": 10,
     "metadata": {},
     "output_type": "execute_result"
    }
   ],
   "source": [
    "# % returns remainder of division\n",
    "17 % 3"
   ]
  },
  {
   "cell_type": "code",
   "execution_count": 11,
   "id": "89615aea-8878-44e2-a1e5-74d57f3653fa",
   "metadata": {},
   "outputs": [
    {
     "data": {
      "text/plain": [
       "17"
      ]
     },
     "execution_count": 11,
     "metadata": {},
     "output_type": "execute_result"
    }
   ],
   "source": [
    "5 * 3 + 2"
   ]
  },
  {
   "cell_type": "code",
   "execution_count": 12,
   "id": "94934f96-95a2-48bb-842a-474f43cad570",
   "metadata": {},
   "outputs": [
    {
     "data": {
      "text/plain": [
       "25"
      ]
     },
     "execution_count": 12,
     "metadata": {},
     "output_type": "execute_result"
    }
   ],
   "source": [
    "# ** can be used to calculate powers\n",
    "5 ** 2  # 5 ^ 2"
   ]
  },
  {
   "cell_type": "code",
   "execution_count": 13,
   "id": "55ed5064-e3d3-4755-9cf6-0f8c9ceb29af",
   "metadata": {},
   "outputs": [
    {
     "data": {
      "text/plain": [
       "128"
      ]
     },
     "execution_count": 13,
     "metadata": {},
     "output_type": "execute_result"
    }
   ],
   "source": [
    "2 ** 7 # 2 ^ 7"
   ]
  },
  {
   "cell_type": "code",
   "execution_count": 20,
   "id": "692857ef-659c-4139-b83d-408e3576238e",
   "metadata": {},
   "outputs": [
    {
     "data": {
      "text/plain": [
       "900"
      ]
     },
     "execution_count": 20,
     "metadata": {},
     "output_type": "execute_result"
    }
   ],
   "source": [
    "# = is   op \n",
    "width = 20\n",
    "height = 5 * 9\n",
    "width * height"
   ]
  },
  {
   "cell_type": "code",
   "execution_count": 15,
   "id": "393a9978-90ce-4a11-8747-337ac17c787a",
   "metadata": {},
   "outputs": [
    {
     "data": {
      "text/plain": [
       "14.0"
      ]
     },
     "execution_count": 15,
     "metadata": {},
     "output_type": "execute_result"
    }
   ],
   "source": [
    "# Operations containing both ints and floats results in float type\n",
    "4 * 3.75 - 1"
   ]
  },
  {
   "cell_type": "code",
   "execution_count": 16,
   "id": "b09048bc-7af9-4242-b462-05035237ed50",
   "metadata": {},
   "outputs": [
    {
     "data": {
      "text/plain": [
       "'I am the great potato man'"
      ]
     },
     "execution_count": 16,
     "metadata": {},
     "output_type": "execute_result"
    }
   ],
   "source": [
    "# 3.1.2 Text\n",
    "# str data type is enclosed in either ' ' or \" \"\n",
    "'I am the great potato man'"
   ]
  },
  {
   "cell_type": "code",
   "execution_count": 17,
   "id": "cde46594-50e6-4756-948a-5d0a47f3b986",
   "metadata": {},
   "outputs": [],
   "source": [
    "# to quote a quote use \\ to escape the quote or use ' ' within \" \" or \" \" within ' '"
   ]
  },
  {
   "cell_type": "code",
   "execution_count": 19,
   "id": "4be73eb5-d349-4a6e-9e1f-9633cdea74f4",
   "metadata": {},
   "outputs": [
    {
     "data": {
      "text/plain": [
       "\"doesn't\""
      ]
     },
     "execution_count": 19,
     "metadata": {},
     "output_type": "execute_result"
    }
   ],
   "source": [
    "# \\ to escape\n",
    "'doesn\\'t'"
   ]
  },
  {
   "cell_type": "code",
   "execution_count": 21,
   "id": "bf439380-cc3c-4cce-81f0-53d3fa70b569",
   "metadata": {},
   "outputs": [
    {
     "data": {
      "text/plain": [
       "\"doesn't\""
      ]
     },
     "execution_count": 21,
     "metadata": {},
     "output_type": "execute_result"
    }
   ],
   "source": [
    "# \" \" to escape\n",
    "\"doesn't\""
   ]
  },
  {
   "cell_type": "code",
   "execution_count": 23,
   "id": "8878f2bd-f83f-4495-ac5d-23dfdbb1df53",
   "metadata": {},
   "outputs": [
    {
     "data": {
      "text/plain": [
       "'\"yes,\" they said'"
      ]
     },
     "execution_count": 23,
     "metadata": {},
     "output_type": "execute_result"
    }
   ],
   "source": [
    "# using ' ' to escape\n",
    "'\"yes,\" they said'"
   ]
  },
  {
   "cell_type": "code",
   "execution_count": 24,
   "id": "a13d5182-b7d7-47df-86f1-aa48eda06041",
   "metadata": {},
   "outputs": [
    {
     "data": {
      "text/plain": [
       "'First line. \\nSecond line.'"
      ]
     },
     "execution_count": 24,
     "metadata": {},
     "output_type": "execute_result"
    }
   ],
   "source": [
    "# print() function omits enclosing quotes and prints escaped and special chars\n",
    "s = 'First line. \\nSecond line.' # \\n is new line\n",
    "# without print(), special chars are included in string\n",
    "s"
   ]
  },
  {
   "cell_type": "code",
   "execution_count": 26,
   "id": "cefedfc2-12a2-40f4-b9ec-18d41b82077b",
   "metadata": {},
   "outputs": [
    {
     "name": "stdout",
     "output_type": "stream",
     "text": [
      "First line. \n",
      "Second line.\n"
     ]
    }
   ],
   "source": [
    "# with print(), special chars are interpreted causing \\n to create new line\n",
    "print(s)"
   ]
  },
  {
   "cell_type": "code",
   "execution_count": 28,
   "id": "02eeaa5e-7c02-4a42-91ed-815dbb7eeebb",
   "metadata": {},
   "outputs": [
    {
     "name": "stdout",
     "output_type": "stream",
     "text": [
      "C:\n",
      "ame\n"
     ]
    }
   ],
   "source": [
    "# raw string, causes print() to ignore special chars such as \\\n",
    "print('C:\\name') #Here, \\n will produce a new line"
   ]
  },
  {
   "cell_type": "code",
   "execution_count": 29,
   "id": "14ec0619-83bf-4018-b28f-88e2d85c9227",
   "metadata": {},
   "outputs": [
    {
     "name": "stdout",
     "output_type": "stream",
     "text": [
      "C:\\some\\name\n"
     ]
    }
   ],
   "source": [
    "# r is used to create raw string causing print() to ignore special char such as \\\n",
    "print(r'C:\\some\\name')"
   ]
  },
  {
   "cell_type": "code",
   "execution_count": 31,
   "id": "0b8b122d-f65e-4ed2-833c-c01c34bb316b",
   "metadata": {},
   "outputs": [
    {
     "data": {
      "text/plain": [
       "'unununium'"
      ]
     },
     "execution_count": 31,
     "metadata": {},
     "output_type": "execute_result"
    }
   ],
   "source": [
    "# String concat using + \n",
    "# String can be repeated using *\n",
    "3 * 'un' + 'ium'"
   ]
  },
  {
   "cell_type": "code",
   "execution_count": 32,
   "id": "3ee16192-a0fe-43cb-96b0-745d03137a8f",
   "metadata": {},
   "outputs": [
    {
     "data": {
      "text/plain": [
       "'Python'"
      ]
     },
     "execution_count": 32,
     "metadata": {},
     "output_type": "execute_result"
    }
   ],
   "source": [
    "# String literals next to each other are automatically concat\n",
    "'Py' 'thon'"
   ]
  },
  {
   "cell_type": "code",
   "execution_count": 33,
   "id": "0f22912a-a64d-49bc-8f34-90acc29bff63",
   "metadata": {},
   "outputs": [
    {
     "data": {
      "text/plain": [
       "'Put multiple strings withint parenthesesto them them joined together'"
      ]
     },
     "execution_count": 33,
     "metadata": {},
     "output_type": "execute_result"
    }
   ],
   "source": [
    "#\n",
    "text = ('Put multiple strings withint parentheses' 'to them them joined together')\n",
    "text"
   ]
  },
  {
   "cell_type": "code",
   "execution_count": 35,
   "id": "7befa067-1143-4814-966a-08879b3000ee",
   "metadata": {},
   "outputs": [
    {
     "data": {
      "text/plain": [
       "'Python'"
      ]
     },
     "execution_count": 35,
     "metadata": {},
     "output_type": "execute_result"
    }
   ],
   "source": [
    "# automatic concat doesn't work between string literal and variable\n",
    "# must use + to concat a string literal and a variable\n",
    "prefix = 'Py'\n",
    "prefix + 'thon'"
   ]
  },
  {
   "cell_type": "code",
   "execution_count": 40,
   "id": "14a5297a-7fca-4f2e-ac8b-7197c2831bab",
   "metadata": {},
   "outputs": [
    {
     "name": "stdout",
     "output_type": "stream",
     "text": [
      "Char at index 0 is: P\n",
      "Char at index 5 is: n\n"
     ]
    }
   ],
   "source": [
    "# strings can be indexed\n",
    "# First char has index 0\n",
    "# There is no char type. A single char is a string of size 1\n",
    "word = 'Python'\n",
    "print(\"Char at index 0 is: \" + word[0])\n",
    "print(\"Char at index 5 is: \" + word[5])"
   ]
  },
  {
   "cell_type": "code",
   "execution_count": 43,
   "id": "a83b7d18-5e1e-43c5-909e-95cabe0bc403",
   "metadata": {},
   "outputs": [
    {
     "name": "stdout",
     "output_type": "stream",
     "text": [
      "Last character is: n\n",
      "Second to last char is: o\n",
      "First char is: P\n"
     ]
    }
   ],
   "source": [
    "# Negative indexes start from end of string\n",
    "# Nevative indexes start from -1\n",
    "print(\"Last character is: \" + word[-1])\n",
    "print(\"Second to last char is: \" + word[-2])\n",
    "print(\"First char is: \" + word[-6])"
   ]
  },
  {
   "cell_type": "code",
   "execution_count": 48,
   "id": "9ddb9503-43bf-426d-b512-b58a6b657d31",
   "metadata": {},
   "outputs": [
    {
     "name": "stdout",
     "output_type": "stream",
     "text": [
      "Py\n"
     ]
    }
   ],
   "source": [
    "# slicing allows to substring a string\n",
    "# [start:end] slice starts at start index and excludes end index .:. slice from start to end - 1\n",
    "print(word[0:2])"
   ]
  },
  {
   "cell_type": "code",
   "execution_count": 47,
   "id": "aafcafa7-dabd-4756-ba72-792653d43268",
   "metadata": {},
   "outputs": [
    {
     "name": "stdout",
     "output_type": "stream",
     "text": [
      "tho\n"
     ]
    }
   ],
   "source": [
    "print(word[2:5])"
   ]
  },
  {
   "cell_type": "code",
   "execution_count": 49,
   "id": "175049b8-2b11-4388-8dcd-5b0fd54283e3",
   "metadata": {},
   "outputs": [
    {
     "name": "stdout",
     "output_type": "stream",
     "text": [
      "Python\n"
     ]
    }
   ],
   "source": [
    "print(word[:2] + word[2:])"
   ]
  },
  {
   "cell_type": "code",
   "execution_count": 50,
   "id": "108ac6f5-bac7-4fee-b99f-ed532ef1b1f2",
   "metadata": {},
   "outputs": [
    {
     "name": "stdout",
     "output_type": "stream",
     "text": [
      "Python\n"
     ]
    }
   ],
   "source": [
    "print(word[:4] + word[4:])"
   ]
  },
  {
   "cell_type": "code",
   "execution_count": 51,
   "id": "aa286440-f1e4-4600-b76d-62c23d87672e",
   "metadata": {},
   "outputs": [
    {
     "name": "stdout",
     "output_type": "stream",
     "text": [
      "Py\n",
      "thon\n"
     ]
    }
   ],
   "source": [
    "# More slicing\n",
    "# Omitting start index slices from index 0 to end - 1\n",
    "print(word[:2])\n",
    "# Omitting the end index slices up until end of string/array\n",
    "print(word[2:])"
   ]
  },
  {
   "cell_type": "code",
   "execution_count": 53,
   "id": "0289d8f1-119e-4ff1-941a-94625847f930",
   "metadata": {},
   "outputs": [
    {
     "name": "stdout",
     "output_type": "stream",
     "text": [
      "on\n"
     ]
    }
   ],
   "source": [
    "# Slices can be negative, starting from the back/end\n",
    "print(word[-2:])"
   ]
  },
  {
   "cell_type": "code",
   "execution_count": 54,
   "id": "9d6ba45d-ab8a-4e1c-b886-ab55c476e582",
   "metadata": {},
   "outputs": [
    {
     "name": "stdout",
     "output_type": "stream",
     "text": [
      "on\n",
      "\n"
     ]
    }
   ],
   "source": [
    "# Slicing handles out of index \"gracefully\"\n",
    "print(word[4:42])\n",
    "print(word[42:])"
   ]
  },
  {
   "cell_type": "code",
   "execution_count": 56,
   "id": "39c675c9-dd6b-4fcb-ae12-8e6fdfc8f76a",
   "metadata": {},
   "outputs": [
    {
     "name": "stdout",
     "output_type": "stream",
     "text": [
      "Jython\n",
      "Pypy\n"
     ]
    }
   ],
   "source": [
    "# Strings are immutable .:. assigning indexed position in string yields error\n",
    "# word[0] = 'j' would return in error\n",
    "# .:. in order to modify a string, a new string must be created\n",
    "print('J' + word[1:])\n",
    "print(word[:2] + 'py')"
   ]
  },
  {
   "cell_type": "code",
   "execution_count": 57,
   "id": "c251f873-7053-4f13-8177-8a7387a883db",
   "metadata": {},
   "outputs": [
    {
     "name": "stdout",
     "output_type": "stream",
     "text": [
      "6\n"
     ]
    }
   ],
   "source": [
    "# len() returns length of string/arr\n",
    "print(len(word))"
   ]
  },
  {
   "cell_type": "code",
   "execution_count": 58,
   "id": "44401995-00b1-41be-aa5a-773d4aa83840",
   "metadata": {},
   "outputs": [],
   "source": [
    "# 3.1.3 Lists"
   ]
  },
  {
   "cell_type": "code",
   "execution_count": 59,
   "id": "1cc28eb8-b9d2-4d35-8ef3-65eea79ed5da",
   "metadata": {},
   "outputs": [
    {
     "data": {
      "text/plain": [
       "[1, 4, 9, 16, 25]"
      ]
     },
     "execution_count": 59,
     "metadata": {},
     "output_type": "execute_result"
    }
   ],
   "source": [
    "# List, written as [item1, item 2, item3, ....] \n",
    "# Items in list can be of different type\n",
    "squares = [1, 4, 9, 16, 25]\n",
    "squares"
   ]
  },
  {
   "cell_type": "code",
   "execution_count": 63,
   "id": "5bb52ef6-9579-4ddc-aa4d-70d10c5c9879",
   "metadata": {},
   "outputs": [
    {
     "name": "stdout",
     "output_type": "stream",
     "text": [
      "1\n",
      "25\n",
      "[9, 16, 25]\n"
     ]
    }
   ],
   "source": [
    "# Lists can be indexed and sliced\n",
    "print(squares[0])\n",
    "print(squares[-1]) #returns last item\n",
    "print(squares[-3:]) #slices starting 3 items from the back all the way to end"
   ]
  },
  {
   "cell_type": "code",
   "execution_count": 66,
   "id": "0243e1dc-1728-4fa1-b8f0-ab248b02b2db",
   "metadata": {},
   "outputs": [
    {
     "name": "stdout",
     "output_type": "stream",
     "text": [
      "[1, 4, 9, 16, 25]\n"
     ]
    }
   ],
   "source": [
    "# Lists can be concat +\n",
    "squares + [36, 49, 64, 81, 100]"
   ]
  },
  {
   "cell_type": "code",
   "execution_count": 67,
   "id": "7a5afd01-30b2-4cf2-8208-f52b6a28449f",
   "metadata": {},
   "outputs": [
    {
     "name": "stdout",
     "output_type": "stream",
     "text": [
      "[1, 8, 27, 65, 125]\n",
      "[1, 8, 27, 64, 125]\n"
     ]
    }
   ],
   "source": [
    "# lists are mutable, value at indexes can be changed\n",
    "cubes = [1, 8, 27, 65, 125]\n",
    "print(cubes)\n",
    "cubes[3] = 64\n",
    "print(cubes)"
   ]
  },
  {
   "cell_type": "code",
   "execution_count": 68,
   "id": "fed3e37c-b9dd-42a3-b2b4-a5e5083058f9",
   "metadata": {},
   "outputs": [
    {
     "name": "stdout",
     "output_type": "stream",
     "text": [
      "[1, 8, 27, 64, 125, 216, 343]\n"
     ]
    }
   ],
   "source": [
    "# .append() allows to add an item to the end of the list\n",
    "cubes.append(216)\n",
    "cubes.append(7 **3)\n",
    "print(cubes)"
   ]
  },
  {
   "cell_type": "code",
   "execution_count": 70,
   "id": "83ddbb47-b8f3-4df9-b444-29d7a80df286",
   "metadata": {},
   "outputs": [
    {
     "name": "stdout",
     "output_type": "stream",
     "text": [
      "['red', 'green', 'blue', 'alpha']\n"
     ]
    }
   ],
   "source": [
    "# Assigmment doesn't copy data. New variable points to the original object .:. changes made to copies affect original\n",
    "rgb = [\"red\", \"green\", \"blue\"]\n",
    "rgba = rgb\n",
    "id(rgb) == id(rgba)\n",
    "rgba.append(\"alph\")\n",
    "print(rgb)  #note, it includes \"alpha\" even though it was added to rgba"
   ]
  },
  {
   "cell_type": "code",
   "execution_count": 75,
   "id": "93f3a281-ee5c-4125-9c70-3a057399e1f9",
   "metadata": {},
   "outputs": [
    {
     "name": "stdout",
     "output_type": "stream",
     "text": [
      "['red', 'green', 'blue', 'alpha']\n"
     ]
    }
   ],
   "source": [
    "#slice operations return a new list, a shallow copy of the list\n",
    "correct_rgba = rgba[:]\n",
    "correct_rgba[-1] = \"alpha\"\n",
    "print(correct_rgba)"
   ]
  },
  {
   "cell_type": "code",
   "execution_count": 79,
   "id": "3875b1af-f232-4c44-9bb4-2b45eee57d35",
   "metadata": {},
   "outputs": [
    {
     "name": "stdout",
     "output_type": "stream",
     "text": [
      "['a', 'b', 'c', 'd', 'e', 'f', 'g']\n",
      "['a', 'b', 'C', 'D', 'E', 'f', 'g']\n",
      "['a', 'b', 'f', 'g']\n",
      "[]\n"
     ]
    }
   ],
   "source": [
    "# slice can be used to replace values or delete values\n",
    "letters = ['a', 'b', 'c', 'd', 'e', 'f', 'g']\n",
    "print(letters)\n",
    "# replace vals using slice\n",
    "letters[2:5] = ['C', 'D', 'E']\n",
    "print(letters)\n",
    "# delete values using slice\n",
    "letters[2:5] = []\n",
    "print(letters)\n",
    "# clear list replacing all values with empty list\n",
    "letters[:] = []\n",
    "print(letters)"
   ]
  },
  {
   "cell_type": "code",
   "execution_count": 80,
   "id": "99213d67-cbdc-4a43-9bd0-0d98650f3fcf",
   "metadata": {},
   "outputs": [
    {
     "data": {
      "text/plain": [
       "0"
      ]
     },
     "execution_count": 80,
     "metadata": {},
     "output_type": "execute_result"
    }
   ],
   "source": [
    "# len also applies to lists\n",
    "len(letters)"
   ]
  },
  {
   "cell_type": "code",
   "execution_count": 86,
   "id": "4ac71523-32a4-4240-b849-54162c2783ac",
   "metadata": {},
   "outputs": [
    {
     "name": "stdout",
     "output_type": "stream",
     "text": [
      "[['a', 'b', 'c'], [1, 2, 3]]\n",
      "['a', 'b', 'c']\n",
      "2\n"
     ]
    }
   ],
   "source": [
    "# Lists can be nested. 2d array/vector\n",
    "list_letters = ['a', 'b', 'c']\n",
    "list_numbers = [1, 2, 3]\n",
    "lists_combined = [list_letters, list_numbers]\n",
    "print(lists_combined)\n",
    "print(lists_combined[0])\n",
    "print(lists_combined[1][1])"
   ]
  },
  {
   "cell_type": "code",
   "execution_count": 89,
   "id": "144fdd74-943f-40f0-a0ed-1048df0b1734",
   "metadata": {},
   "outputs": [
    {
     "name": "stdout",
     "output_type": "stream",
     "text": [
      "0,1,1,2,3,5,8,"
     ]
    }
   ],
   "source": [
    "# 3.2 First steps towards programming\n",
    "#Fibnacci\n",
    "a, b = 0, 1    #assigns a to value 0 and b to value 1\n",
    "while a < 10:  #loooop\n",
    "    print(a, end=',')   # print() can take the end argument which replaces the newline with ','\n",
    "    a, b = b, a + b  # again, assign a to b and b to a + b"
   ]
  },
  {
   "cell_type": "code",
   "execution_count": null,
   "id": "3043dbb9-f48b-4f64-9530-558f4ab6f868",
   "metadata": {},
   "outputs": [],
   "source": []
  }
 ],
 "metadata": {
  "kernelspec": {
   "display_name": "Python 3 (ipykernel)",
   "language": "python",
   "name": "python3"
  },
  "language_info": {
   "codemirror_mode": {
    "name": "ipython",
    "version": 3
   },
   "file_extension": ".py",
   "mimetype": "text/x-python",
   "name": "python",
   "nbconvert_exporter": "python",
   "pygments_lexer": "ipython3",
   "version": "3.12.7"
  }
 },
 "nbformat": 4,
 "nbformat_minor": 5
}
