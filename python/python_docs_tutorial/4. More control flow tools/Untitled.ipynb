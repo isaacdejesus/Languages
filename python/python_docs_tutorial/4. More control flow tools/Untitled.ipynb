{
 "cells": [
  {
   "cell_type": "code",
   "execution_count": 2,
   "id": "f46440ed-ba07-4263-a2b6-c6781c3d018a",
   "metadata": {},
   "outputs": [],
   "source": [
    "# 4. More Control Flow Tools"
   ]
  },
  {
   "cell_type": "code",
   "execution_count": 4,
   "id": "7f21833b-ad30-4b57-aa0a-d3da3b84b4ee",
   "metadata": {},
   "outputs": [
    {
     "name": "stdin",
     "output_type": "stream",
     "text": [
      "Enter an int:  38\n"
     ]
    },
    {
     "name": "stdout",
     "output_type": "stream",
     "text": [
      "More\n"
     ]
    }
   ],
   "source": [
    "# 4.1 if statements\n",
    "x = int(input(\"Enter an int: \"))\n",
    "if x < 0:\n",
    "    x = 0\n",
    "    print('Negative int changed to 0')\n",
    "elif x == 0:\n",
    "    print('zero')\n",
    "elif x == 1:\n",
    "    print('single')\n",
    "else:\n",
    "    print('More')"
   ]
  },
  {
   "cell_type": "code",
   "execution_count": 6,
   "id": "f8a18c9d-ad28-4a67-8bb3-b391cdb4d632",
   "metadata": {},
   "outputs": [
    {
     "name": "stdout",
     "output_type": "stream",
     "text": [
      "cat 3\n",
      "window 6\n",
      "ugh 3\n"
     ]
    }
   ],
   "source": [
    "# 4.2 for statement\n",
    "words = ['cat', 'window', 'ugh']\n",
    "for word in words:\n",
    "    print(word, len(word))"
   ]
  },
  {
   "cell_type": "code",
   "execution_count": 10,
   "id": "7fadf9a6-9a3c-4bfc-ae22-a1c3a0b4833c",
   "metadata": {},
   "outputs": [
    {
     "name": "stdout",
     "output_type": "stream",
     "text": [
      "{'Hans': 'active', 'Joe': 'active'}\n",
      "{'Hans': 'active', 'Joe': 'active'}\n"
     ]
    }
   ],
   "source": [
    "# loop can modify collection during iteration .:. best to loop a cp or create a new collection\n",
    "# create collection\n",
    "users = {'Hans': 'active', 'Eleonore': 'inactive', 'Joe': 'active'}\n",
    "# iterate a cp\n",
    "for user, status in users.copy().items():\n",
    "    if status == 'inactive':\n",
    "        del users[user]\n",
    "print(users)\n",
    "# create a new collection\n",
    "active_users = {}\n",
    "for user, status in users.items():\n",
    "    if status == 'active':\n",
    "        active_users[user] = status\n",
    "print(users)"
   ]
  },
  {
   "cell_type": "code",
   "execution_count": 19,
   "id": "ec30ffac-f70e-4b31-85f7-b36ca08cd359",
   "metadata": {},
   "outputs": [
    {
     "name": "stdout",
     "output_type": "stream",
     "text": [
      "0, 1, 2, 3, 4, \n",
      "[5, 6, 7, 8, 9]\n",
      "[0, 3, 6, 9]\n",
      "[-10, -40, -70]\n"
     ]
    }
   ],
   "source": [
    "# range() function\n",
    "for i in range(5):\n",
    "    print(i, end=', ')\n",
    "print()\n",
    "# range(start, end - 1, increment/step)\n",
    "print(list(range(5,10)))   # create list starting from 5 and incrementing by default 1 up to 10 - 1\n",
    "print(list(range(0, 10, 3)))  # Start 0 to 10 - 1 in increments of 3\n",
    "print(list(range(-10, -100, -30)))"
   ]
  },
  {
   "cell_type": "code",
   "execution_count": 20,
   "id": "f97fc3ae-c0f7-4eb6-8d48-cfa79602c26d",
   "metadata": {},
   "outputs": [
    {
     "name": "stdout",
     "output_type": "stream",
     "text": [
      "0 Mary\n",
      "1 had\n",
      "2 a\n",
      "3 little\n",
      "4 lamb\n"
     ]
    }
   ],
   "source": [
    "# combine len() and range() to iterate over indices of a sequence\n",
    "a = ['Mary', 'had', 'a', 'little', 'lamb']\n",
    "for i in range(len(a)):\n",
    "    print(i, a[i])"
   ]
  },
  {
   "cell_type": "code",
   "execution_count": null,
   "id": "4838291a-de8f-473e-b19f-4a4b168a56cd",
   "metadata": {},
   "outputs": [],
   "source": []
  }
 ],
 "metadata": {
  "kernelspec": {
   "display_name": "Python 3 (ipykernel)",
   "language": "python",
   "name": "python3"
  },
  "language_info": {
   "codemirror_mode": {
    "name": "ipython",
    "version": 3
   },
   "file_extension": ".py",
   "mimetype": "text/x-python",
   "name": "python",
   "nbconvert_exporter": "python",
   "pygments_lexer": "ipython3",
   "version": "3.12.7"
  }
 },
 "nbformat": 4,
 "nbformat_minor": 5
}
