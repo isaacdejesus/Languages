{
 "cells": [
  {
   "cell_type": "markdown",
   "id": "24375824",
   "metadata": {},
   "source": [
    "Python objects are either scalar-> indivisible or non-scalar-> have inernal structure.\n",
    "Python contains the following scalars: int, float, bool, None\n",
    "type() functions returns object's type"
   ]
  },
  {
   "cell_type": "code",
   "execution_count": 9,
   "id": "e603027c",
   "metadata": {},
   "outputs": [
    {
     "name": "stdout",
     "output_type": "stream",
     "text": [
      "<class 'float'>\n"
     ]
    }
   ],
   "source": [
    "a_number = 9.99\n",
    "print(type(a_number))"
   ]
  },
  {
   "cell_type": "markdown",
   "id": "72925de5",
   "metadata": {},
   "source": [
    "Arithmetic operations Have usual precedence. Use () to + precedence.\n",
    "+,-,*,/ will return a float if one of the operands if a float. Else, return ints.\n",
    "//: floor division ignores remainder.\n",
    "%: modulo, returns remainder\n",
    "a**b: raise a to power b"
   ]
  },
  {
   "cell_type": "code",
   "execution_count": 11,
   "id": "1ecfa2b9",
   "metadata": {},
   "outputs": [
    {
     "name": "stdout",
     "output_type": "stream",
     "text": [
      "109.99\n",
      "10.01001001001001\n"
     ]
    }
   ],
   "source": [
    "a_whole_number = 100\n",
    "print(a_number + a_whole_number)\n",
    "print(a_whole_number/a_number)\n",
    "\n"
   ]
  },
  {
   "cell_type": "code",
   "execution_count": null,
   "id": "e1c14237",
   "metadata": {},
   "outputs": [],
   "source": [
    "#I am a comment"
   ]
  },
  {
   "cell_type": "markdown",
   "id": "9ad4f88a",
   "metadata": {},
   "source": [
    "input() function used to request user input"
   ]
  },
  {
   "cell_type": "code",
   "execution_count": 1,
   "id": "42bb23fb",
   "metadata": {},
   "outputs": [
    {
     "name": "stdout",
     "output_type": "stream",
     "text": [
      "isaac\n",
      "isaac\n"
     ]
    }
   ],
   "source": [
    "your_name = input()\n",
    "print(your_name)"
   ]
  },
  {
   "cell_type": "markdown",
   "id": "e9d05771",
   "metadata": {},
   "source": [
    "len() function returns object's size"
   ]
  },
  {
   "cell_type": "markdown",
   "id": "3d2418c0",
   "metadata": {},
   "source": [
    "int(), float(), str() functions can be used to typecast"
   ]
  },
  {
   "cell_type": "code",
   "execution_count": 5,
   "id": "9b16359e",
   "metadata": {},
   "outputs": [
    {
     "name": "stdout",
     "output_type": "stream",
     "text": [
      "<class 'str'>\n",
      "<class 'int'>\n"
     ]
    }
   ],
   "source": [
    "a_number = \"999\"\n",
    "a_new_number = int(a_number)\n",
    "print(type(a_number))\n",
    "print(type(a_new_number))"
   ]
  },
  {
   "cell_type": "code",
   "execution_count": null,
   "id": "9a20e53e",
   "metadata": {},
   "outputs": [],
   "source": []
  },
  {
   "cell_type": "markdown",
   "id": "1066495d",
   "metadata": {},
   "source": [
    "Conditonals & branching"
   ]
  },
  {
   "cell_type": "code",
   "execution_count": 18,
   "id": "c1c2046d",
   "metadata": {},
   "outputs": [],
   "source": [
    "def a_function(x):\n",
    "    if x%2 == 0:\n",
    "        if x%3 == 0:\n",
    "            print(x,\"is divisible by 2 and 3\")\n",
    "        else:\n",
    "            print(x,\"is divisible by 2 but not by 3\")\n",
    "    elif x%3 == 0:\n",
    "        print(x,\"is divisible by 3 but not 2\")"
   ]
  },
  {
   "cell_type": "code",
   "execution_count": 20,
   "id": "dddb0c35",
   "metadata": {},
   "outputs": [
    {
     "name": "stdout",
     "output_type": "stream",
     "text": [
      "9 is divisible by 3 but not 2\n"
     ]
    }
   ],
   "source": [
    "a_function(9)"
   ]
  },
  {
   "cell_type": "markdown",
   "id": "55920407",
   "metadata": {},
   "source": [
    "break stop the loop\n",
    "continue causes loop to return to top/beginning"
   ]
  },
  {
   "cell_type": "markdown",
   "id": "64521a01",
   "metadata": {},
   "source": [
    "for loops"
   ]
  },
  {
   "cell_type": "code",
   "execution_count": 8,
   "id": "add4709b",
   "metadata": {},
   "outputs": [
    {
     "name": "stdout",
     "output_type": "stream",
     "text": [
      "5050\n"
     ]
    }
   ],
   "source": [
    "#example forloops. Count up to value\n",
    "def count_up_to(x):\n",
    "    sum = 0\n",
    "    for i in range(x + 1):\n",
    "        sum = sum + i\n",
    "    print(sum)\n",
    "\n",
    "count_up_to(100)"
   ]
  },
  {
   "cell_type": "code",
   "execution_count": 9,
   "id": "e3bcd1f4",
   "metadata": {},
   "outputs": [
    {
     "name": "stdout",
     "output_type": "stream",
     "text": [
      "0\n",
      "2\n",
      "4\n",
      "6\n",
      "8\n"
     ]
    }
   ],
   "source": [
    "#range can be called with 3 arguments.\n",
    "#first one is the start, second is the final number - 1 and last argument is the step\n",
    "#will count in steps of 2 up to 8 since 10 -1 = 9\n",
    "for i in range(0, 10, 2):\n",
    "    print(i)"
   ]
  },
  {
   "cell_type": "code",
   "execution_count": 10,
   "id": "93a2d605",
   "metadata": {},
   "outputs": [
    {
     "name": "stdout",
     "output_type": "stream",
     "text": [
      "5\n",
      "4\n",
      "3\n",
      "2\n",
      "1\n",
      "0\n"
     ]
    }
   ],
   "source": [
    "#range can also step backward by using negative argument\n",
    "for i in range( 5, -1, -1):\n",
    "    print(i)"
   ]
  },
  {
   "cell_type": "code",
   "execution_count": 11,
   "id": "956b8526",
   "metadata": {},
   "outputs": [
    {
     "name": "stdout",
     "output_type": "stream",
     "text": [
      "type exit to exit\n",
      "potato\n",
      "type exit to exit\n",
      "exit\n"
     ]
    },
    {
     "ename": "SystemExit",
     "evalue": "",
     "output_type": "error",
     "traceback": [
      "An exception has occurred, use %tb to see the full traceback.\n",
      "\u001b[0;31mSystemExit\u001b[0m\n"
     ]
    },
    {
     "name": "stderr",
     "output_type": "stream",
     "text": [
      "/usr/lib/python3.9/site-packages/IPython/core/interactiveshell.py:3452: UserWarning: To exit: use 'exit', 'quit', or Ctrl-D.\n",
      "  warn(\"To exit: use 'exit', 'quit', or Ctrl-D.\", stacklevel=1)\n"
     ]
    }
   ],
   "source": [
    "#sys library can be used to terminate a program\n",
    "import sys\n",
    "while True:\n",
    "    print(\"type exit to exit\")\n",
    "    response = input()\n",
    "    if response == 'exit':\n",
    "        sys.exit()"
   ]
  },
  {
   "cell_type": "code",
   "execution_count": 14,
   "id": "6cce7378",
   "metadata": {},
   "outputs": [
    {
     "name": "stdout",
     "output_type": "stream",
     "text": [
      "helloworld\n",
      "Hi * potato * man\n"
     ]
    }
   ],
   "source": [
    "#print() function automatically adds newline as the end of the string\n",
    "#print takes optional parameters end and sep\n",
    "#end can be used to disable endline and be able to print two different print statements on same line\n",
    "print(\"hello\", end = '')\n",
    "print (\"world\")\n",
    "\n",
    "#print() automatically separates prints with a space \n",
    "#spacing can be changed with sep argument\n",
    "print(\"Hi\", \"potato\",\"man\", sep = \" * \")"
   ]
  },
  {
   "cell_type": "code",
   "execution_count": null,
   "id": "5e08698d",
   "metadata": {},
   "outputs": [],
   "source": [
    "#global statement must be used to be able to modify global variables within functions\n",
    "#ex if we have a global variable named MAXNUMBER and we want to modify it within a function\n",
    "#then inside the function we could write global MAXNUMBER\n",
    "#this tells py to use the global variable instead of creating a new local variable by the same name"
   ]
  },
  {
   "cell_type": "markdown",
   "id": "67e23c4d",
   "metadata": {},
   "source": [
    "lists"
   ]
  },
  {
   "cell_type": "code",
   "execution_count": 15,
   "id": "f2bf9adc",
   "metadata": {},
   "outputs": [
    {
     "name": "stdout",
     "output_type": "stream",
     "text": [
      "gato\n"
     ]
    }
   ],
   "source": [
    "#can access list of lists using list_name[][]\n",
    "#First[] indicates which sublist to access and the second which element to access\n",
    "a_list = [['cat', 'dog', 'lion'], ['gato', 'perro', 'leon']]\n",
    "print(a_list[1][0])"
   ]
  },
  {
   "cell_type": "code",
   "execution_count": 16,
   "id": "e88f4e1d",
   "metadata": {},
   "outputs": [
    {
     "name": "stdout",
     "output_type": "stream",
     "text": [
      "leon\n"
     ]
    }
   ],
   "source": [
    "#use negative index to get values at end of list\n",
    "print(a_list[1][-1])"
   ]
  },
  {
   "cell_type": "code",
   "execution_count": 2,
   "id": "2070cd54",
   "metadata": {},
   "outputs": [
    {
     "name": "stdout",
     "output_type": "stream",
     "text": [
      "[0, 1, 2, 3, 4]\n"
     ]
    }
   ],
   "source": [
    "#slicing a list [start:end] excludes the end value\n",
    "a_new_list = [0, 1, 2, 3, 4, 5, 6, 7, 8, 9, 10]\n",
    "print(a_new_list[0:5])"
   ]
  },
  {
   "cell_type": "code",
   "execution_count": 18,
   "id": "ce64f9e7",
   "metadata": {},
   "outputs": [
    {
     "name": "stdout",
     "output_type": "stream",
     "text": [
      "[5, 6, 7, 8, 9, 10]\n"
     ]
    }
   ],
   "source": [
    "#[:end] start from beginning of list\n",
    "#[start:] slice until the end of the list\n",
    "print(a_new_list[5:])"
   ]
  },
  {
   "cell_type": "code",
   "execution_count": 19,
   "id": "8fe8cd8c",
   "metadata": {},
   "outputs": [
    {
     "name": "stdout",
     "output_type": "stream",
     "text": [
      "[['cat', 'green', 'lion'], ['gato', 'perro', 'leon']]\n"
     ]
    }
   ],
   "source": [
    "#reassign values using []\n",
    "a_list[0][1] = \"green\"\n",
    "print(a_list)"
   ]
  },
  {
   "cell_type": "code",
   "execution_count": 21,
   "id": "37a71697",
   "metadata": {},
   "outputs": [
    {
     "name": "stdout",
     "output_type": "stream",
     "text": [
      "[1, 2, 3, 'a', 'b', 'c']\n",
      "['solo', 'solo', 'solo', 'solo', 'solo', 'solo']\n"
     ]
    }
   ],
   "source": [
    "#lists can be concat with +\n",
    "#lists can be replicated with *\n",
    "print([1,2,3] + ['a', 'b', 'c'])\n",
    "print(['solo'] * 6)"
   ]
  },
  {
   "cell_type": "code",
   "execution_count": null,
   "id": "eb06218e",
   "metadata": {},
   "outputs": [],
   "source": [
    "#del to delete from list\n",
    "del a_list[0]"
   ]
  },
  {
   "cell_type": "code",
   "execution_count": 22,
   "id": "638da2c0",
   "metadata": {},
   "outputs": [
    {
     "name": "stdout",
     "output_type": "stream",
     "text": [
      "['cat', 'green', 'lion']\n",
      "['gato', 'perro', 'leon']\n"
     ]
    }
   ],
   "source": [
    "#loop through lists\n",
    "for item in a_list:\n",
    "    print(item)"
   ]
  },
  {
   "cell_type": "code",
   "execution_count": 25,
   "id": "52aaddaf",
   "metadata": {},
   "outputs": [
    {
     "name": "stdout",
     "output_type": "stream",
     "text": [
      "True\n",
      "False\n"
     ]
    }
   ],
   "source": [
    "#in and not can be used to check items on list\n",
    "print(5 in a_new_list)\n",
    "print(5 not in a_new_list)"
   ]
  },
  {
   "cell_type": "code",
   "execution_count": 5,
   "id": "fae2e8aa",
   "metadata": {},
   "outputs": [
    {
     "name": "stdout",
     "output_type": "stream",
     "text": [
      "0 0\n",
      "1 1\n",
      "2 2\n",
      "3 3\n",
      "4 4\n",
      "5 5\n",
      "6 6\n",
      "7 7\n",
      "8 8\n",
      "9 9\n",
      "10 10\n"
     ]
    }
   ],
   "source": [
    "#enumerate() function returns list with index along with item stored in index\n",
    "for index, item in enumerate(a_new_list):\n",
    "    print(index, item)"
   ]
  },
  {
   "cell_type": "code",
   "execution_count": 7,
   "id": "f6b95639",
   "metadata": {},
   "outputs": [
    {
     "name": "stdout",
     "output_type": "stream",
     "text": [
      "6\n",
      "10\n"
     ]
    }
   ],
   "source": [
    "#random.choice() and random.shuffle() canbe used on lists\n",
    "import random\n",
    "print(random.choice(a_new_list))#return an item from the list at random\n",
    "random.shuffle(a_new_list) #randomly reorder items in the list\n",
    "print(a_new_list[0])"
   ]
  },
  {
   "cell_type": "markdown",
   "id": "19949990",
   "metadata": {},
   "source": [
    "#### List Methods"
   ]
  },
  {
   "cell_type": "code",
   "execution_count": 9,
   "id": "d4f8c7da",
   "metadata": {},
   "outputs": [
    {
     "name": "stdout",
     "output_type": "stream",
     "text": [
      "10\n"
     ]
    }
   ],
   "source": [
    "#index() returns index if value exists in the list\n",
    "print(a_new_list.index(5))"
   ]
  },
  {
   "cell_type": "code",
   "execution_count": 10,
   "id": "2c7ab1b7",
   "metadata": {},
   "outputs": [],
   "source": [
    "#append() to the end of the list\n",
    "#insert() at given index\n",
    "a_new_list.append(11)\n",
    "a_new_list.insert(5, 12)"
   ]
  },
  {
   "cell_type": "code",
   "execution_count": 11,
   "id": "6000c7ed",
   "metadata": {},
   "outputs": [],
   "source": [
    "#remove(), if multiple copies, only first will be removed\n",
    "#remove() takes values as argument\n",
    "#different from del\n",
    "#del list[index]\n",
    "a_new_list.remove(0)"
   ]
  },
  {
   "cell_type": "code",
   "execution_count": 15,
   "id": "f79536b8",
   "metadata": {},
   "outputs": [
    {
     "name": "stdout",
     "output_type": "stream",
     "text": [
      "[1, 2, 3, 4, 5, 6, 7, 8, 9, 10, 11, 12]\n",
      "[12, 11, 10, 9, 8, 7, 6, 5, 4, 3, 2, 1]\n"
     ]
    }
   ],
   "source": [
    "#sort()\n",
    "a_new_list.sort()\n",
    "print(a_new_list)\n",
    "#can also sort in reverse\n",
    "a_new_list.sort(reverse = True)\n",
    "print(a_new_list)"
   ]
  },
  {
   "cell_type": "code",
   "execution_count": 16,
   "id": "42f86df2",
   "metadata": {},
   "outputs": [
    {
     "name": "stdout",
     "output_type": "stream",
     "text": [
      "['a', 'A', 'z', 'Z']\n"
     ]
    }
   ],
   "source": [
    "#sort() gives higher priority to caps over lowercase\n",
    "#To sort everything in lowercase use\n",
    "a_list = ['a', 'z', 'A', 'Z']\n",
    "a_list.sort(key=str.lower)\n",
    "print(a_list)"
   ]
  },
  {
   "cell_type": "code",
   "execution_count": 17,
   "id": "7e64fe8f",
   "metadata": {},
   "outputs": [
    {
     "name": "stdout",
     "output_type": "stream",
     "text": [
      "[1, 2, 3, 4, 5, 6, 7, 8, 9, 10, 11, 12]\n"
     ]
    }
   ],
   "source": [
    "#reverse() order of values in list\n",
    "a_new_list.reverse()\n",
    "print(a_new_list)"
   ]
  },
  {
   "cell_type": "code",
   "execution_count": 22,
   "id": "397718b0",
   "metadata": {},
   "outputs": [
    {
     "name": "stdout",
     "output_type": "stream",
     "text": [
      "Tiger the cat\n"
     ]
    }
   ],
   "source": [
    "#python strings are immutable\n",
    "#to add to a string, need to slice and concat a new string\n",
    "name = \"Tiger e cat\"\n",
    "new_name = name[0:6] + \"the\" + name[7:]\n",
    "print(new_name)"
   ]
  },
  {
   "cell_type": "markdown",
   "id": "59c2cf74",
   "metadata": {},
   "source": [
    "### tuples- immutable data type"
   ]
  },
  {
   "cell_type": "code",
   "execution_count": 23,
   "id": "4af8cfef",
   "metadata": {},
   "outputs": [],
   "source": [
    "a_tuple = (\"hello\", 5, \"ayo\")"
   ]
  },
  {
   "cell_type": "code",
   "execution_count": null,
   "id": "c8186691",
   "metadata": {},
   "outputs": [],
   "source": [
    "#tuple values can not be modified, deleted or added\n",
    "a_tuple[0]= 99 #causes an error"
   ]
  },
  {
   "cell_type": "code",
   "execution_count": 25,
   "id": "4a2d8ce9",
   "metadata": {},
   "outputs": [
    {
     "name": "stdout",
     "output_type": "stream",
     "text": [
      "<class 'list'>\n",
      "['hello', 5, 'ayo']\n"
     ]
    }
   ],
   "source": [
    "#can cast to tuple or list using tuple() or list().\n",
    "#similarly to casting using int(), str(), float()\n",
    "\n",
    "alist = (list(a_tuple)) #cast tuple into list\n",
    "print(type(alist))\n",
    "print(alist)"
   ]
  },
  {
   "cell_type": "code",
   "execution_count": 26,
   "id": "ee3b5e85",
   "metadata": {},
   "outputs": [
    {
     "name": "stdout",
     "output_type": "stream",
     "text": [
      "140018153035328\n",
      "140018153064640\n"
     ]
    }
   ],
   "source": [
    "#lists and dicts are often passed by reference meaning\n",
    "#list = new_list makes a copy by reference. Making changes to make changes the other\n",
    "\n",
    "#copy() and deepcopy()\n",
    "#id() gives memory address\n",
    "import copy\n",
    "newlist = copy.copy(alist) #same contents but different addresses\n",
    "#therefore making changes to either list will not reflect on the other\n",
    "print(id(alist))\n",
    "print(id(newlist))\n",
    "\n",
    "#deepcopy() is used for list of lists."
   ]
  },
  {
   "cell_type": "markdown",
   "id": "cbc408c4",
   "metadata": {},
   "source": [
    "### dictionaries"
   ]
  },
  {
   "cell_type": "code",
   "execution_count": 30,
   "id": "e0ae4458",
   "metadata": {},
   "outputs": [
    {
     "name": "stdout",
     "output_type": "stream",
     "text": [
      "joe potato salesman\n"
     ]
    }
   ],
   "source": [
    "#dictionaries are mutable. Contain key/value pairs.\n",
    "#instead of using index, we use keys to access the values\n",
    "person = {\"Name\": \"joe\", \"Age\": 22, \"Profession\": \"potato salesman\"}\n",
    "print(person[\"Name\"], person[\"Profession\"])"
   ]
  },
  {
   "cell_type": "code",
   "execution_count": 31,
   "id": "f9318a41",
   "metadata": {},
   "outputs": [
    {
     "name": "stdout",
     "output_type": "stream",
     "text": [
      "joe\n",
      "22\n",
      "potato salesman\n",
      "Name\n",
      "Age\n",
      "Profession\n",
      "('Name', 'joe')\n",
      "('Age', 22)\n",
      "('Profession', 'potato salesman')\n"
     ]
    }
   ],
   "source": [
    "#items() returns key/value pairs\n",
    "#values() returns values\n",
    "#keys() returns keys\n",
    "for value in person.values():\n",
    "    print(value)\n",
    "for key in person.keys():\n",
    "    print(key)\n",
    "for item in person.items():\n",
    "    print(item)"
   ]
  },
  {
   "cell_type": "code",
   "execution_count": 32,
   "id": "f4cdf265",
   "metadata": {},
   "outputs": [
    {
     "name": "stdout",
     "output_type": "stream",
     "text": [
      "['Name', 'Age', 'Profession']\n"
     ]
    }
   ],
   "source": [
    "#can use the values() and keys() along with list() to return values in a list\n",
    "person_values_list = list(person.values())\n",
    "person_keys_list = list(person.keys())\n",
    "print(person_keys_list)"
   ]
  },
  {
   "cell_type": "code",
   "execution_count": 33,
   "id": "de6ad1c3",
   "metadata": {},
   "outputs": [
    {
     "name": "stdout",
     "output_type": "stream",
     "text": [
      "Name joe\n",
      "Age 22\n",
      "Profession potato salesman\n"
     ]
    }
   ],
   "source": [
    "#items() to assign keys and values to different variables in a loop\n",
    "for key, value in person.items():\n",
    "    print(key, value)"
   ]
  },
  {
   "cell_type": "code",
   "execution_count": 39,
   "id": "9590d652",
   "metadata": {},
   "outputs": [
    {
     "name": "stdout",
     "output_type": "stream",
     "text": [
      "True\n",
      "True\n",
      "True\n",
      "True\n"
     ]
    }
   ],
   "source": [
    "#in not in can be used with dictionaries as well\n",
    "print(\"joe\" in person.values())\n",
    "print(\"Isaac\" not in person.values())\n",
    "print(\"Name\" in person)\n",
    "print(\"Name\" in person.keys())"
   ]
  },
  {
   "cell_type": "code",
   "execution_count": 41,
   "id": "50a40c98",
   "metadata": {},
   "outputs": [
    {
     "name": "stdout",
     "output_type": "stream",
     "text": [
      "None 0\n",
      "joe\n"
     ]
    }
   ],
   "source": [
    "#get() to check if keys exists in dict\n",
    "#get() takes 2 arguments, values to search for and default return value if not found\n",
    "#get() will return None by default if not found\n",
    "print(person.get(\"What\"), 0)\n",
    "print(person.get(\"Name\"))"
   ]
  },
  {
   "cell_type": "code",
   "execution_count": 44,
   "id": "ef85302d",
   "metadata": {},
   "outputs": [
    {
     "data": {
      "text/plain": [
       "66"
      ]
     },
     "execution_count": 44,
     "metadata": {},
     "output_type": "execute_result"
    }
   ],
   "source": [
    "#setdefault() can be used to add a new key/value pair?\n",
    "person.setdefault(\"Income\",66)\n",
    "#if key already exists, then function returns the value mapped to the key\n",
    "person.setdefault(\"Income\", 99)"
   ]
  },
  {
   "cell_type": "code",
   "execution_count": 45,
   "id": "89c1a3fd",
   "metadata": {},
   "outputs": [
    {
     "name": "stdout",
     "output_type": "stream",
     "text": [
      "{' ': 14, 'I': 1, 't': 6, 'w': 2, 'a': 4, 's': 3, 'b': 1, 'r': 5, 'i': 6, 'g': 2, 'h': 3, 'c': 3, 'o': 2, 'l': 3, 'd': 3, 'y': 1, 'n': 4, 'A': 1, 'p': 1, ',': 1, 'e': 5, 'k': 2, '.': 1}\n"
     ]
    }
   ],
   "source": [
    "#interesting example maps frequencies of char from an input string\n",
    "message = \" It was a bright cold day in April, and the clocks were striking thirteen.\"\n",
    "count = {}\n",
    "for character in message:\n",
    "    count.setdefault(character, 0) # set the default value of each character to 0\n",
    "    count[character] = count[character] + 1\n",
    "print(count)"
   ]
  },
  {
   "cell_type": "code",
   "execution_count": 47,
   "id": "e8e1facd",
   "metadata": {},
   "outputs": [
    {
     "name": "stdout",
     "output_type": "stream",
     "text": [
      "{' ': 14,\n",
      " ',': 1,\n",
      " '.': 1,\n",
      " 'A': 1,\n",
      " 'I': 1,\n",
      " 'a': 4,\n",
      " 'b': 1,\n",
      " 'c': 3,\n",
      " 'd': 3,\n",
      " 'e': 5,\n",
      " 'g': 2,\n",
      " 'h': 3,\n",
      " 'i': 6,\n",
      " 'k': 2,\n",
      " 'l': 3,\n",
      " 'n': 4,\n",
      " 'o': 2,\n",
      " 'p': 1,\n",
      " 'r': 5,\n",
      " 's': 3,\n",
      " 't': 6,\n",
      " 'w': 2,\n",
      " 'y': 1}\n"
     ]
    }
   ],
   "source": [
    "#pprint provides pprint() and pformat() functions\n",
    "#useful for formatting dictionary outputs\n",
    "#pprint useful for nested dicts or lists\n",
    "#pprint.pformat(dict) to prettify text as a string instead of printing to screen\n",
    "import pprint\n",
    "pprint.pprint(count)"
   ]
  },
  {
   "cell_type": "code",
   "execution_count": 49,
   "id": "321d3a19",
   "metadata": {},
   "outputs": [],
   "source": [
    "a_var = pprint.pformat(count)"
   ]
  },
  {
   "cell_type": "code",
   "execution_count": 50,
   "id": "9ef9e1a6",
   "metadata": {},
   "outputs": [
    {
     "name": "stdout",
     "output_type": "stream",
     "text": [
      "{' ': 14,\n",
      " ',': 1,\n",
      " '.': 1,\n",
      " 'A': 1,\n",
      " 'I': 1,\n",
      " 'a': 4,\n",
      " 'b': 1,\n",
      " 'c': 3,\n",
      " 'd': 3,\n",
      " 'e': 5,\n",
      " 'g': 2,\n",
      " 'h': 3,\n",
      " 'i': 6,\n",
      " 'k': 2,\n",
      " 'l': 3,\n",
      " 'n': 4,\n",
      " 'o': 2,\n",
      " 'p': 1,\n",
      " 'r': 5,\n",
      " 's': 3,\n",
      " 't': 6,\n",
      " 'w': 2,\n",
      " 'y': 1}\n"
     ]
    }
   ],
   "source": [
    "print(a_var)"
   ]
  },
  {
   "cell_type": "code",
   "execution_count": null,
   "id": "efa328de",
   "metadata": {},
   "outputs": [],
   "source": [
    "#tic tac toe\n",
    "theBoard = {'top-L': ' ', 'top-M': ' ', 'top-R': ' ',\n",
    "            'mid-L': ' ', 'mid-M': ' ', 'mid-R': ' ',\n",
    "            'low-L': ' ', 'low-M': ' ', 'low-R': ' '}"
   ]
  },
  {
   "cell_type": "code",
   "execution_count": null,
   "id": "93446590",
   "metadata": {},
   "outputs": [],
   "source": [
    "def printBoard(board):\n",
    "    print(board['top-L'] + '|' + board['top-M'] + '|' + board['top-R'])\n",
    "    print('-+-+-')\n",
    "    print(board['mid-L'] + '|' + board['mid-M'] + '|' + board['mid-R'])\n",
    "    print('-+-+-')\n",
    "    print(board['low-L'] + '|' + board['low-M'] + '|' + board['low-R'])"
   ]
  },
  {
   "cell_type": "code",
   "execution_count": null,
   "id": "cc96ef7d",
   "metadata": {},
   "outputs": [
    {
     "name": "stdout",
     "output_type": "stream",
     "text": [
      " | | \n",
      "-+-+-\n",
      " | | \n",
      "-+-+-\n",
      " | | \n",
      "Turn for X. Move on which space?\n",
      "top-L\n",
      "X| | \n",
      "-+-+-\n",
      " | | \n",
      "-+-+-\n",
      " | | \n",
      "Turn for O. Move on which space?\n",
      "top-M\n",
      "X|O| \n",
      "-+-+-\n",
      " | | \n",
      "-+-+-\n",
      " | | \n",
      "Turn for X. Move on which space?\n"
     ]
    }
   ],
   "source": [
    "turn = 'X'\n",
    "for i in range(9):\n",
    "    printBoard(theBoard)\n",
    "    print('Turn for ' + turn + '. Move on which space?')\n",
    "    move = input()\n",
    "    theBoard[move] = turn\n",
    "    if turn == 'X':\n",
    "        turn = 'O'\n",
    "    else:\n",
    "        turn = 'X'\n",
    "printBoard(theBoard)"
   ]
  },
  {
   "cell_type": "code",
   "execution_count": null,
   "id": "620e0592",
   "metadata": {},
   "outputs": [],
   "source": [
    "#nested dicts and lists\n",
    "all_guests = {'Alice': {'apples': 5}, 'pretzels': 12},\n",
    "                'Bob': {'ham': 3, 'apples': 2},\n",
    "                'Carol': {'cups': 3, 'more apples lol': 3}\n",
    "def totalBrought(guests, item):\n",
    "    numBrought = 0\n",
    "    for k, v in guests.items():\n",
    "        numBrought = numBrought = v.get(item,0)\n",
    "    return numBrought #ugh,didn't finish this one"
   ]
  },
  {
   "cell_type": "markdown",
   "id": "e98bd728",
   "metadata": {},
   "source": [
    "###string operations"
   ]
  },
  {
   "cell_type": "code",
   "execution_count": 3,
   "id": "5b48342e",
   "metadata": {},
   "outputs": [
    {
     "name": "stdout",
     "output_type": "stream",
     "text": [
      "That is Carol\\'s cat.\n"
     ]
    },
    {
     "data": {
      "text/plain": [
       "' this is a multiline comment\\nhahahha\\n'"
      ]
     },
     "execution_count": 3,
     "metadata": {},
     "output_type": "execute_result"
    }
   ],
   "source": [
    "#scape characters\n",
    "#\\'\n",
    "#\\\"\n",
    "#\\t\n",
    "#\\n\n",
    "#\\\\\n",
    "\n",
    "#raw strings ignore all scape characters\n",
    "print(r'That is Carol\\'s cat.')\n",
    "\n",
    "#can also use \"\"\" \"\"\" or ''' ''' doesn't require scaping\n",
    "\"\"\" this is a multiline comment\n",
    "hahahha\n",
    "\"\"\""
   ]
  },
  {
   "cell_type": "code",
   "execution_count": 5,
   "id": "5076042e",
   "metadata": {},
   "outputs": [
    {
     "name": "stdout",
     "output_type": "stream",
     "text": [
      "Hello\n"
     ]
    }
   ],
   "source": [
    "#string can be indexed and sliced the same way as lists\n",
    "a_string = \"Hello, world!\"\n",
    "print(a_string[0:5])"
   ]
  },
  {
   "cell_type": "code",
   "execution_count": 7,
   "id": "1708355d",
   "metadata": {},
   "outputs": [
    {
     "name": "stdout",
     "output_type": "stream",
     "text": [
      "True\n"
     ]
    }
   ],
   "source": [
    "#In and not in \n",
    "print(\"Hello\" in a_string)"
   ]
  },
  {
   "cell_type": "code",
   "execution_count": 8,
   "id": "04fc17c6",
   "metadata": {},
   "outputs": [
    {
     "data": {
      "text/plain": [
       "'my name is isaac. I am 99 years old.'"
      ]
     },
     "execution_count": 8,
     "metadata": {},
     "output_type": "execute_result"
    }
   ],
   "source": [
    "#string interpolation...use %s instead of converting parameters to string using str()\n",
    "name = \"isaac\"\n",
    "age = 99\n",
    "\"my name is %s. I am %s years old.\" %(name, age)"
   ]
  },
  {
   "cell_type": "code",
   "execution_count": 9,
   "id": "b97a9053",
   "metadata": {},
   "outputs": [
    {
     "data": {
      "text/plain": [
       "'my name is isaac. next year I will be 100.'"
      ]
     },
     "execution_count": 9,
     "metadata": {},
     "output_type": "execute_result"
    }
   ],
   "source": [
    "#f strings\n",
    "f'my name is {name}. next year I will be {age + 1}.'"
   ]
  },
  {
   "cell_type": "code",
   "execution_count": 12,
   "id": "bf492454",
   "metadata": {},
   "outputs": [
    {
     "name": "stdout",
     "output_type": "stream",
     "text": [
      "HELLO, WORLD!\n",
      "True\n"
     ]
    }
   ],
   "source": [
    "#string methods upper(), lower(), isupper(), islower()\n",
    "a_string = a_string.upper()\n",
    "print(a_string)\n",
    "print(a_string.isupper())"
   ]
  },
  {
   "cell_type": "code",
   "execution_count": null,
   "id": "714eda1d",
   "metadata": {},
   "outputs": [],
   "source": [
    "#other string methods\n",
    "#isalpha() true if string contains only letters and isn't blank\n",
    "#isalnum() true if string contains only letters and numbers and not blank\n",
    "#isdecimal() true if consists of numeric values and not blank\n",
    "#isspace() true if string consists only of spaces, tabs, and newlines, not blank\n",
    "#islittle() true is string consists of words beginning with Upper letter followed by lowercase\n",
    "\n"
   ]
  },
  {
   "cell_type": "code",
   "execution_count": 15,
   "id": "7dbcf99d",
   "metadata": {},
   "outputs": [
    {
     "name": "stdout",
     "output_type": "stream",
     "text": [
      "HELLO, WORLD!\n",
      "False\n",
      "True\n"
     ]
    }
   ],
   "source": [
    "#startswith() endswith() returns true if string starts/end with sequence\n",
    "print(a_string)\n",
    "print(a_string.startswith(\"Hello\"))\n",
    "print(a_string.startswith(\"HELLO\"))"
   ]
  },
  {
   "cell_type": "code",
   "execution_count": 18,
   "id": "93a2c38d",
   "metadata": {},
   "outputs": [],
   "source": [
    "#join() and split()\n",
    "#join() is called on a string and passed a list a parameter\n",
    "new_str = 'ABC'.join(['my', 'name', 'is', 'potato'])"
   ]
  },
  {
   "cell_type": "code",
   "execution_count": 17,
   "id": "06faf042",
   "metadata": {},
   "outputs": [
    {
     "data": {
      "text/plain": [
       "['My', 'name', 'is', 'potato']"
      ]
     },
     "execution_count": 17,
     "metadata": {},
     "output_type": "execute_result"
    }
   ],
   "source": [
    "#split() is called on a string and it returns a list of strings\n",
    "'My name is potato'.split()"
   ]
  },
  {
   "cell_type": "code",
   "execution_count": 19,
   "id": "6490a6d3",
   "metadata": {},
   "outputs": [
    {
     "data": {
      "text/plain": [
       "['my', 'name', 'is', 'potato']"
      ]
     },
     "execution_count": 19,
     "metadata": {},
     "output_type": "execute_result"
    }
   ],
   "source": [
    "#split uses space to separate string\n",
    "#can pass parameter to deparate strings using that instead of space\n",
    "new_str.split('ABC')"
   ]
  },
  {
   "cell_type": "code",
   "execution_count": 24,
   "id": "7128b82b",
   "metadata": {},
   "outputs": [
    {
     "name": "stdout",
     "output_type": "stream",
     "text": [
      "['Dear Alice, ',\n",
      " 'How have you been? I am fine.',\n",
      " 'There is a container in the fridge',\n",
      " \"that is labeled 'milk experiment.'\",\n",
      " '',\n",
      " '',\n",
      " 'Please do not drink it.',\n",
      " 'Sincerely,',\n",
      " 'Bob']\n"
     ]
    }
   ],
   "source": [
    "#ex \n",
    "import pprint\n",
    "astr = \"\"\"Dear Alice, \n",
    "How have you been? I am fine.\n",
    "There is a container in the fridge\n",
    "that is labeled 'milk experiment.'\n",
    "\n",
    "\n",
    "Please do not drink it.\n",
    "Sincerely,\n",
    "Bob\"\"\"\n",
    "\n",
    "pprint.pprint(astr.split('\\n'))"
   ]
  },
  {
   "cell_type": "code",
   "execution_count": 27,
   "id": "62a7bf41",
   "metadata": {},
   "outputs": [
    {
     "name": "stdout",
     "output_type": "stream",
     "text": [
      "Hello,  w orld!\n"
     ]
    }
   ],
   "source": [
    "#partition() returns a string split at the given sequence\n",
    "before, sep, after = 'Hello, world!'. partition('w') #saves the resulting strings in vars\n",
    "print(before, sep, after)"
   ]
  },
  {
   "cell_type": "code",
   "execution_count": 28,
   "id": "c2e5dcf7",
   "metadata": {},
   "outputs": [
    {
     "data": {
      "text/plain": [
       "'Hello, world            '"
      ]
     },
     "execution_count": 28,
     "metadata": {},
     "output_type": "execute_result"
    }
   ],
   "source": [
    "#remove whitespace strip(), rstrip(), lstrip()\n",
    "astring = \"       Hello, world            \"\n",
    "astring.strip() #remove all white space at both ends\n",
    "astring.rstrip() #remove white space from right\n",
    "astring.lstrip() #remove white space from left"
   ]
  },
  {
   "cell_type": "code",
   "execution_count": 29,
   "id": "20012345",
   "metadata": {},
   "outputs": [
    {
     "data": {
      "text/plain": [
       "'baconspamegg'"
      ]
     },
     "execution_count": 29,
     "metadata": {},
     "output_type": "execute_result"
    }
   ],
   "source": [
    "#Can also indicate which characters to strip at the ends\n",
    "spam = 'spamspambaconspameggspam'\n",
    "spam.strip('amps')"
   ]
  },
  {
   "cell_type": "code",
   "execution_count": 30,
   "id": "f59454d4",
   "metadata": {},
   "outputs": [
    {
     "ename": "ModuleNotFoundError",
     "evalue": "No module named 'pyperclip'",
     "output_type": "error",
     "traceback": [
      "\u001b[0;31m---------------------------------------------------------------------------\u001b[0m",
      "\u001b[0;31mModuleNotFoundError\u001b[0m                       Traceback (most recent call last)",
      "\u001b[0;32m/tmp/ipykernel_1237/1722305192.py\u001b[0m in \u001b[0;36m<module>\u001b[0;34m\u001b[0m\n\u001b[0;32m----> 1\u001b[0;31m \u001b[0;32mimport\u001b[0m \u001b[0mpyperclip\u001b[0m\u001b[0;34m\u001b[0m\u001b[0;34m\u001b[0m\u001b[0m\n\u001b[0m\u001b[1;32m      2\u001b[0m \u001b[0mpyperclip\u001b[0m\u001b[0;34m.\u001b[0m\u001b[0mcopy\u001b[0m\u001b[0;34m(\u001b[0m\u001b[0;34m'Hello, world!'\u001b[0m\u001b[0;34m)\u001b[0m\u001b[0;34m\u001b[0m\u001b[0;34m\u001b[0m\u001b[0m\n\u001b[1;32m      3\u001b[0m \u001b[0mpyperclip\u001b[0m\u001b[0;34m.\u001b[0m\u001b[0mpaste\u001b[0m\u001b[0;34m(\u001b[0m\u001b[0;34m)\u001b[0m\u001b[0;34m\u001b[0m\u001b[0;34m\u001b[0m\u001b[0m\n",
      "\u001b[0;31mModuleNotFoundError\u001b[0m: No module named 'pyperclip'"
     ]
    }
   ],
   "source": [
    "import pyperclip\n",
    "pyperclip.copy('Hello, world!')\n",
    "pyperclip.paste()"
   ]
  },
  {
   "cell_type": "code",
   "execution_count": null,
   "id": "5c71ab5e",
   "metadata": {},
   "outputs": [],
   "source": []
  }
 ],
 "metadata": {
  "kernelspec": {
   "display_name": "Python 3 (ipykernel)",
   "language": "python",
   "name": "python3"
  },
  "language_info": {
   "codemirror_mode": {
    "name": "ipython",
    "version": 3
   },
   "file_extension": ".py",
   "mimetype": "text/x-python",
   "name": "python",
   "nbconvert_exporter": "python",
   "pygments_lexer": "ipython3",
   "version": "3.10.2"
  }
 },
 "nbformat": 4,
 "nbformat_minor": 5
}
