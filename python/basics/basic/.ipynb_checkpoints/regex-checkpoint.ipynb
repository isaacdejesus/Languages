{
 "cells": [
  {
   "cell_type": "code",
   "execution_count": 1,
   "id": "c9cbfba4",
   "metadata": {},
   "outputs": [],
   "source": [
    "import re"
   ]
  },
  {
   "cell_type": "code",
   "execution_count": 5,
   "id": "cadc7786",
   "metadata": {},
   "outputs": [
    {
     "name": "stdout",
     "output_type": "stream",
     "text": [
      "636-399-3284\n"
     ]
    }
   ],
   "source": [
    "phoneNumRegex = re.compile(r'\\d\\d\\d-\\d\\d\\d-\\d\\d\\d\\d')\n",
    "mo = phoneNumRegex.search('My phone num is 636-399-3284.')\n",
    "print(mo.group())"
   ]
  },
  {
   "cell_type": "code",
   "execution_count": 8,
   "id": "3b67ce7d",
   "metadata": {},
   "outputs": [
    {
     "ename": "IndexError",
     "evalue": "no such group",
     "output_type": "error",
     "traceback": [
      "\u001b[0;31m---------------------------------------------------------------------------\u001b[0m",
      "\u001b[0;31mIndexError\u001b[0m                                Traceback (most recent call last)",
      "\u001b[0;32m/tmp/ipykernel_5280/2520412786.py\u001b[0m in \u001b[0;36m<module>\u001b[0;34m\u001b[0m\n\u001b[1;32m      3\u001b[0m \u001b[0;31m#group(1) returns first portion of string\u001b[0m\u001b[0;34m\u001b[0m\u001b[0;34m\u001b[0m\u001b[0m\n\u001b[1;32m      4\u001b[0m \u001b[0;31m#group(2) return the second portion\u001b[0m\u001b[0;34m\u001b[0m\u001b[0;34m\u001b[0m\u001b[0m\n\u001b[0;32m----> 5\u001b[0;31m \u001b[0mprint\u001b[0m\u001b[0;34m(\u001b[0m\u001b[0mmo\u001b[0m\u001b[0;34m.\u001b[0m\u001b[0mgroup\u001b[0m\u001b[0;34m(\u001b[0m\u001b[0;36m1\u001b[0m\u001b[0;34m)\u001b[0m\u001b[0;34m)\u001b[0m\u001b[0;34m\u001b[0m\u001b[0;34m\u001b[0m\u001b[0m\n\u001b[0m",
      "\u001b[0;31mIndexError\u001b[0m: no such group"
     ]
    }
   ],
   "source": [
    "#regex search returns a group compose of 2 parts. \n",
    "#group() and group(0) both return the entire string\n",
    "#group(1) returns first portion of string\n",
    "#group(2) return the second portion"
   ]
  },
  {
   "cell_type": "code",
   "execution_count": 17,
   "id": "65a9e288",
   "metadata": {},
   "outputs": [],
   "source": [
    "#assign results to multiple strings\n",
    "#areaCode, mainNumber = mo.groups()\n",
    "\n",
    "#following characters have special meaning\n",
    "#.^$+?{}[]\\|()\n",
    "#to scape them put \\ in front of r string\n",
    "phoneNumRegex = re.compile(r'(\\(\\d\\d\\d)\\)(\\d\\d\\d-\\d\\d\\d\\d)')"
   ]
  },
  {
   "cell_type": "code",
   "execution_count": 18,
   "id": "2b2cf579",
   "metadata": {},
   "outputs": [
    {
     "name": "stdout",
     "output_type": "stream",
     "text": [
      "(383)838-3939\n"
     ]
    }
   ],
   "source": [
    "#now regex detects strings of format (838) 888-3883\n",
    "mo = phoneNumRegex.search('(383)838-3939')\n",
    "print(mo.group())"
   ]
  },
  {
   "cell_type": "code",
   "execution_count": 20,
   "id": "f46efb90",
   "metadata": {},
   "outputs": [
    {
     "name": "stdout",
     "output_type": "stream",
     "text": [
      "Batman\n",
      "Superman\n"
     ]
    }
   ],
   "source": [
    "#The pipe | can be used to check match for multiple items\n",
    "# a|b will return a match if either a or b is found.\n",
    "#will return match for first item found\n",
    "heroRegex = re.compile( r'Batman|Superman')\n",
    "mo1 = heroRegex.search(\"Batman and Superman\")\n",
    "print(mo1.group())\n",
    "mo1 = heroRegex.search(\"Superman annnd Batman\")\n",
    "print(mo1.group())"
   ]
  },
  {
   "cell_type": "code",
   "execution_count": 22,
   "id": "c0f61966",
   "metadata": {},
   "outputs": [
    {
     "name": "stdout",
     "output_type": "stream",
     "text": [
      "Batcopter\n"
     ]
    }
   ],
   "source": [
    "#Following can be used to match many strings starting with Bat\n",
    "batRegex = re.compile(r'Bat(man|mobile|copter|bat)')\n",
    "mo = batRegex.search(\"Batcopter is down\")\n",
    "print(mo.group())"
   ]
  },
  {
   "cell_type": "code",
   "execution_count": 25,
   "id": "42cd7d4c",
   "metadata": {},
   "outputs": [
    {
     "name": "stdout",
     "output_type": "stream",
     "text": [
      "Batman\n",
      "Batwoman\n"
     ]
    }
   ],
   "source": [
    "#? flags preceding group as optional\n",
    "batRegex = re.compile(r'Bat(wo)?man')  #(wo)is optional\n",
    "mo1 = batRegex.search('The adventures of Batman')\n",
    "print(mo1.group())\n",
    "mo1 = batRegex.search('The great Batwoman')\n",
    "print(mo1.group())\n"
   ]
  },
  {
   "cell_type": "code",
   "execution_count": 27,
   "id": "2934075e",
   "metadata": {},
   "outputs": [
    {
     "name": "stdout",
     "output_type": "stream",
     "text": [
      "423-434-3333\n",
      "222-3333\n"
     ]
    }
   ],
   "source": [
    "#another optional example with phone #\n",
    "#this time (ddd) is optional\n",
    "phoneRegex = re.compile(r'(\\d\\d\\d-)?\\d\\d\\d-\\d\\d\\d\\d')\n",
    "mo1 = phoneRegex.search('423-434-3333')\n",
    "print(mo1.group())\n",
    "mo2 = phoneRegex.search(\"222-3333\")\n",
    "print(mo2.group())"
   ]
  },
  {
   "cell_type": "code",
   "execution_count": 29,
   "id": "7d120695",
   "metadata": {},
   "outputs": [
    {
     "name": "stdout",
     "output_type": "stream",
     "text": [
      "Batman\n",
      "Batwoman\n",
      "Batwowowowowowoman\n"
     ]
    }
   ],
   "source": [
    "# * matches zero or more of the groups preceding the *\n",
    "# group before * can be absent, or repeated over and over again\n",
    "batRegex = re.compile(r'Bat(wo)*man')\n",
    "mo1 = batRegex.search(\"blah blah Batman\")\n",
    "print(mo1.group())\n",
    "mo2 = batRegex.search(\"blaskdjf Batwoman\")\n",
    "print(mo2.group())\n",
    "mo3 = batRegex.search(\"The mighty Batwowowowowowoman\")\n",
    "print(mo3.group())"
   ]
  },
  {
   "cell_type": "code",
   "execution_count": 37,
   "id": "8144f782",
   "metadata": {},
   "outputs": [
    {
     "name": "stdout",
     "output_type": "stream",
     "text": [
      "Batwoman\n",
      "Batwowowowowoman\n",
      "True\n"
     ]
    }
   ],
   "source": [
    "# + matches one or more. meaning preceding group needs to be in string at least once\n",
    "# group can not be absent\n",
    "batRegex = re.compile(r'Bat(wo)+man')\n",
    "mo1 = batRegex.search('The bla of Batwoman')\n",
    "mo2 = batRegex.search(\"The adjdj of Batwowowowowoman\")\n",
    "mo3 = batRegex.search(\"adventure of Batman\") #not a match because it requires at least one 'wo'\n",
    "print(mo1.group())\n",
    "print(mo2.group())\n",
    "print(mo3 == None)"
   ]
  },
  {
   "cell_type": "code",
   "execution_count": 31,
   "id": "803d0360",
   "metadata": {},
   "outputs": [
    {
     "data": {
      "text/plain": [
       "False"
      ]
     },
     "execution_count": 31,
     "metadata": {},
     "output_type": "execute_result"
    }
   ],
   "source": [
    "mo3 == None"
   ]
  },
  {
   "cell_type": "code",
   "execution_count": 38,
   "id": "881f2df9",
   "metadata": {},
   "outputs": [
    {
     "name": "stdout",
     "output_type": "stream",
     "text": [
      "HaHaHa\n"
     ]
    }
   ],
   "source": [
    "# {} how many matches you want\n",
    "# (ha){3} will match \"hahaha\"\n",
    "#Can also specify a range{min,max}\n",
    "#(ha){3,5} will match \"hahaha\", \"hahahaha\", \"hahahahaha\"\n",
    "#(ha) {,5} will match 0 to 5\n",
    "#(ha) {3,} will match 3 or more\n",
    "haRegex = re.compile(r'(Ha){3}')\n",
    "mo = haRegex.search('HaHaHa')\n",
    "print(mo.group())\n"
   ]
  },
  {
   "cell_type": "code",
   "execution_count": 39,
   "id": "dceed514",
   "metadata": {},
   "outputs": [
    {
     "name": "stdout",
     "output_type": "stream",
     "text": [
      "HaHaHaHaHa\n",
      "HaHaHa\n"
     ]
    }
   ],
   "source": [
    "#when using range and 1+ strings match the pattern, by the default search will return longest\n",
    "greedyHaRegex = re.compile(r'(Ha){3,5}')\n",
    "mo1 = greedyHaRegex.search(\"HaHaHaHaHa\")\n",
    "print(mo1.group())\n",
    "\n",
    "nongreedyHaRegex = re.compile(r'(Ha){3,5}?')\n",
    "mo2 = nongreedyHaRegex.search(\"HaHaHaHaHa\")\n",
    "print(mo2.group())"
   ]
  },
  {
   "cell_type": "code",
   "execution_count": 40,
   "id": "ab1ffed7",
   "metadata": {},
   "outputs": [
    {
     "name": "stdout",
     "output_type": "stream",
     "text": [
      "434-433-4324\n"
     ]
    }
   ],
   "source": [
    "#search() only returns first match\n",
    "#findall() returns a list of all strings matching the pattern if there are no groups in expression\n",
    "#findall() returns tuples if expression conteins groups\n",
    "phoneNumRegex = re.compile(r'\\d\\d\\d-\\d\\d\\d-\\d\\d\\d\\d') #no groups\n",
    "mo = phoneNumRegex.search(\"434-433-4324 and 304-345-4524\")\n",
    "print(mo.group())"
   ]
  },
  {
   "cell_type": "code",
   "execution_count": 47,
   "id": "1cec577c",
   "metadata": {},
   "outputs": [
    {
     "name": "stdout",
     "output_type": "stream",
     "text": [
      "['323-434-4352', '324-443-4242']\n"
     ]
    }
   ],
   "source": [
    "print( phoneNumRegex.findall(\"323-434-4352 annnnd 324-443-4242\"))\n"
   ]
  },
  {
   "cell_type": "code",
   "execution_count": 59,
   "id": "67541d14",
   "metadata": {},
   "outputs": [
    {
     "name": "stdout",
     "output_type": "stream",
     "text": [
      "[('412-', '333-', '4241'), ('933-', '324-', '3298')]\n"
     ]
    }
   ],
   "source": [
    "phoneNumRegex = re.compile(r\"(\\d\\d\\d-)(\\d\\d\\d\\-)(\\d\\d\\d\\d)\") # has groups\n",
    "print(phoneNumRegex.findall('412-333-4241 annnd soem other number 933-324-3298'))\n"
   ]
  },
  {
   "cell_type": "code",
   "execution_count": null,
   "id": "05a6dcc6",
   "metadata": {},
   "outputs": [],
   "source": [
    "#Therefore, if pattern has groups we get list of tuples and if no groups we get a list of strings"
   ]
  },
  {
   "cell_type": "code",
   "execution_count": 61,
   "id": "e71ee75d",
   "metadata": {},
   "outputs": [
    {
     "name": "stdout",
     "output_type": "stream",
     "text": [
      "['12 drummers', '11 pipers', '10 lords', '9 ladies', '8 maids', '7 swans', '6 geese', '5 rings', '3 hens', '2 doves', '1 partridge']\n"
     ]
    }
   ],
   "source": [
    "#character classes:\n",
    "# \\d -> any digit 0-9\n",
    "# \\D -> any char that is not numeric 0-9\n",
    "# \\w -> any letter, numeric digit or _ character. \n",
    "# \\W -> any char not a letter, numeric digits or _\n",
    "# \\s -> any space, tab or nl char\n",
    "# \\S -> any char not space, tab, nl\n",
    "# [0-5] will match numbers 0 to 5\n",
    "xmasRegex = re.compile(r'\\d+\\s\\w+') #matches digit, space and letter\n",
    "print(xmasRegex.findall('12 drummers, 11 pipers, 10 lords, 9 ladies, 8 maids, 7 swans, 6 geese, 5 rings, 3 hens, 2 doves, 1 partridge'))"
   ]
  },
  {
   "cell_type": "code",
   "execution_count": 63,
   "id": "7aff7746",
   "metadata": {},
   "outputs": [
    {
     "name": "stdout",
     "output_type": "stream",
     "text": [
      "['o', 'o', 'o', 'e', 'a', 'a', 'o', 'o', 'A', 'O', 'O']\n"
     ]
    }
   ],
   "source": [
    "#define own character classes\n",
    "#[aeiouAEIOU] will match any of vowel\n",
    "vowelRegex = re.compile(r'[aeiouAEIOU]')\n",
    "print(vowelRegex.findall('Robocop eats baby food. BABY FOOD.'))"
   ]
  },
  {
   "cell_type": "code",
   "execution_count": 64,
   "id": "6f82167e",
   "metadata": {},
   "outputs": [
    {
     "name": "stdout",
     "output_type": "stream",
     "text": [
      "['R', 'b', 'c', 'p', ' ', 't', 's', ' ', 'b', 'b', 'y', ' ', 'f', 'd', '.', ' ', 'B', 'B', 'Y', ' ', 'F', 'D', '.']\n"
     ]
    }
   ],
   "source": [
    "#[a-zA-Z0-0] will match all lowercase, uppercase and numbers\n",
    "#can also make negative classes by adding ^\n",
    "#negative classes select all except for what is in the pattern\n",
    "consonantRegex = re.compile(r'[^aeiouAEIOU]')\n",
    "print(consonantRegex.findall('Robocop eats baby food. BABY FOOD.'))"
   ]
  },
  {
   "cell_type": "code",
   "execution_count": 67,
   "id": "5def7295",
   "metadata": {},
   "outputs": [
    {
     "name": "stdout",
     "output_type": "stream",
     "text": [
      "<re.Match object; span=(0, 5), match='Hello'>\n"
     ]
    }
   ],
   "source": [
    "# ^ at the start of regex indicates match must take place at beginning of str\n",
    "# $ at end of of regex indicates match must take place at end of string\n",
    "# can combine ^ and $ so entire string must match the given patten\n",
    "beginsWithHello = re.compile(r'^Hello')\n",
    "print(beginsWithHello.search('Hello, world!'))\n"
   ]
  },
  {
   "cell_type": "code",
   "execution_count": 68,
   "id": "5cf8e19f",
   "metadata": {},
   "outputs": [
    {
     "name": "stdout",
     "output_type": "stream",
     "text": [
      "True\n"
     ]
    }
   ],
   "source": [
    "print(beginsWithHello.search(\"He said Hello\") == None)"
   ]
  },
  {
   "cell_type": "code",
   "execution_count": 69,
   "id": "cf1b8b9e",
   "metadata": {},
   "outputs": [
    {
     "name": "stdout",
     "output_type": "stream",
     "text": [
      "<re.Match object; span=(18, 19), match='3'>\n",
      "True\n"
     ]
    }
   ],
   "source": [
    "endsWithNumber = re.compile(r'\\d$') #check if string ends with number\n",
    "print(endsWithNumber.search(\"Your number is 3333\"))\n",
    "print(endsWithNumber.search(\"Your number is not hereeee\") == None)"
   ]
  },
  {
   "cell_type": "code",
   "execution_count": 70,
   "id": "9a0602c7",
   "metadata": {},
   "outputs": [
    {
     "name": "stdout",
     "output_type": "stream",
     "text": [
      "<re.Match object; span=(0, 12), match='212324242424'>\n",
      "True\n"
     ]
    }
   ],
   "source": [
    "wholeStringIsNum = re.compile(r'^\\d+$') #checks entire string is composed of numbers\n",
    "print(wholeStringIsNum.search('212324242424'))\n",
    "print(wholeStringIsNum.search('3232d33232') == None)\n"
   ]
  },
  {
   "cell_type": "code",
   "execution_count": 71,
   "id": "b7e02077",
   "metadata": {},
   "outputs": [
    {
     "name": "stdout",
     "output_type": "stream",
     "text": [
      "['cat', 'hat', 'sat', 'lat', 'mat']\n"
     ]
    }
   ],
   "source": [
    "#wildcard . matches any char except nl\n",
    "atRegex = re.compile(r'.at')\n",
    "print(atRegex.findall('The cat in the hat sat on the flat mat.'))\n"
   ]
  },
  {
   "cell_type": "code",
   "execution_count": 74,
   "id": "cf428de4",
   "metadata": {},
   "outputs": [
    {
     "name": "stdout",
     "output_type": "stream",
     "text": [
      "Isaac\n",
      "Reyes\n"
     ]
    }
   ],
   "source": [
    "# . and be combined with * as .* to mea any and all after pattern\n",
    "nameRegex = re.compile(r'First Name: (.*) Last Name: (.*)')\n",
    "mo = nameRegex.search('First Name: Isaac Last Name: Reyes')\n",
    "print(mo.group(1))\n",
    "print(mo.group(2))"
   ]
  },
  {
   "cell_type": "code",
   "execution_count": 75,
   "id": "bfbcf690",
   "metadata": {},
   "outputs": [
    {
     "name": "stdout",
     "output_type": "stream",
     "text": [
      "<To server man>\n",
      "<To serve man> for dinner.>\n"
     ]
    }
   ],
   "source": [
    "#.* is greedy by default and will match as much as possible\n",
    "#use .*? to make it non greedy\n",
    "nongreedyRegex = re.compile(r'<.*?>') #match anything after <, followed by >\n",
    "mo = nongreedyRegex.search('<To server man> for dinner.>')\n",
    "print(mo.group())\n",
    "\n",
    "greedyRegex = re.compile(r'<.*>')\n",
    "mo = greedyRegex.search('<To serve man> for dinner.>')\n",
    "print(mo.group())"
   ]
  },
  {
   "cell_type": "code",
   "execution_count": 77,
   "id": "85c1e555",
   "metadata": {},
   "outputs": [
    {
     "data": {
      "text/plain": [
       "'Serve the public trust.'"
      ]
     },
     "execution_count": 77,
     "metadata": {},
     "output_type": "execute_result"
    }
   ],
   "source": [
    "# . can be forced to match nl\n",
    "noNewLineRegex = re.compile('.*')\n",
    "noNewLineRegex.search('Serve the public trust.\\nProtect the innocent.\\nUphold the laaw.').group()"
   ]
  },
  {
   "cell_type": "code",
   "execution_count": 79,
   "id": "9e7e8a27",
   "metadata": {},
   "outputs": [
    {
     "data": {
      "text/plain": [
       "'Serve the public trust.\\nProtect the innocent.\\nUphold the laaw.'"
      ]
     },
     "execution_count": 79,
     "metadata": {},
     "output_type": "execute_result"
    }
   ],
   "source": [
    "NewLineRegex = re.compile('.*', re.DOTALL)\n",
    "NewLineRegex.search('Serve the public trust.\\nProtect the innocent.\\nUphold the laaw.').group()"
   ]
  },
  {
   "cell_type": "code",
   "execution_count": 81,
   "id": "3ea647dd",
   "metadata": {},
   "outputs": [
    {
     "data": {
      "text/plain": [
       "'Robocop'"
      ]
     },
     "execution_count": 81,
     "metadata": {},
     "output_type": "execute_result"
    }
   ],
   "source": [
    "#Make regrex case insensitive to match pattern regardless of caps or lower\n",
    "#pass second paremeter re.I or re.IGNORECASE\n",
    "robocop = re.compile(r'robocop', re.I)\n",
    "robocop.search('Robocop is part man, part machine, all cop.').group()\n",
    "robocop.search(\"ROBOCOP protects the innocent.\").group()"
   ]
  },
  {
   "cell_type": "code",
   "execution_count": 82,
   "id": "b463d12d",
   "metadata": {},
   "outputs": [
    {
     "data": {
      "text/plain": [
       "'CENSORED gave the secret documents to CENSORED.'"
      ]
     },
     "execution_count": 82,
     "metadata": {},
     "output_type": "execute_result"
    }
   ],
   "source": [
    "#sub() can be used to replace text\n",
    "#first argument is the text used to replace and second argument is the pattern\n",
    "namesRegex = re.compile(r'Agent \\w+')\n",
    "namesRegex.sub('CENSORED', 'Agent Alice gave the secret documents to Agent Bob.')"
   ]
  },
  {
   "cell_type": "code",
   "execution_count": 83,
   "id": "883ce25c",
   "metadata": {},
   "outputs": [
    {
     "data": {
      "text/plain": [
       "'A**** told C**** that E**** knew B**** was a double agent.'"
      ]
     },
     "execution_count": 83,
     "metadata": {},
     "output_type": "execute_result"
    }
   ],
   "source": [
    "#Eh, re-read this one. I am too tired to try to make sense of it rn\n",
    "agentNamesRegex = re.compile(r'Agent (\\w)\\w*')\n",
    "agentNamesRegex.sub(r'\\1****', 'Agent Alice told Agent Carol that Agent Eve knew Agent Bob was a double agent.')"
   ]
  },
  {
   "cell_type": "code",
   "execution_count": 85,
   "id": "c5541eec",
   "metadata": {},
   "outputs": [],
   "source": [
    "#Verbose mode allows you to separate regex over multiple lines\n",
    "phoneRegex = re.compile(r'''(\n",
    "(\\d{3}|\\(\\d{3}\\))?     #area code\n",
    "(\\s|-|\\.)?             #separator\n",
    "\\d{3}                  #first 3 digits\n",
    "(\\s|-|\\.)              #separator\n",
    "\\d{4}                  #last 4 digits\n",
    "(\\s*(ext|x|ext.)\\s*\\d{2,5})?   #extension\n",
    ")''', re.VERBOSE)"
   ]
  },
  {
   "cell_type": "code",
   "execution_count": 86,
   "id": "dd4f52a6",
   "metadata": {},
   "outputs": [],
   "source": [
    "#can use | to combine arguments to regex since regex only takes a single second argument\n",
    "someRegexValue = re.compile('foo', re.IGNORECASE | re.DOTALL | re.VERBOSE)"
   ]
  },
  {
   "cell_type": "code",
   "execution_count": null,
   "id": "1c660c1e",
   "metadata": {},
   "outputs": [],
   "source": []
  }
 ],
 "metadata": {
  "kernelspec": {
   "display_name": "Python 3 (ipykernel)",
   "language": "python",
   "name": "python3"
  },
  "language_info": {
   "codemirror_mode": {
    "name": "ipython",
    "version": 3
   },
   "file_extension": ".py",
   "mimetype": "text/x-python",
   "name": "python",
   "nbconvert_exporter": "python",
   "pygments_lexer": "ipython3",
   "version": "3.9.7"
  }
 },
 "nbformat": 4,
 "nbformat_minor": 5
}
